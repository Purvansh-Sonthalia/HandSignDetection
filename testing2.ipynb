{
 "cells": [
  {
   "cell_type": "code",
   "execution_count": 1,
   "metadata": {},
   "outputs": [],
   "source": [
    "import cv2\n",
    "import torch\n",
    "import torch.nn as nn\n",
    "import mediapipe as mp\n",
    "import config"
   ]
  },
  {
   "cell_type": "code",
   "execution_count": 2,
   "metadata": {},
   "outputs": [],
   "source": [
    "\n",
    "\n",
    "# Initialize and load the model\n",
    "num_classes = len(config.class_names)\n",
    "model = nn.Sequential(\n",
    "    nn.Linear(42,64),\n",
    "    nn.ReLU(),\n",
    "    nn.Linear(64,128),\n",
    "    nn.ReLU(),\n",
    "    nn.Linear(128,64),\n",
    "    nn.ReLU(),\n",
    "    nn.Linear(64,32),\n",
    "    nn.ReLU(),\n",
    "    nn.Linear(32,num_classes),\n",
    "    nn.Sigmoid()\n",
    ")\n",
    "model.load_state_dict(torch.load('hand_images_classifier.pth'))\n",
    "\n",
    "device = torch.device(\"cuda:0\" if torch.cuda.is_available() else \"cpu\")\n",
    "model = model.to(device)\n"
   ]
  },
  {
   "cell_type": "code",
   "execution_count": 3,
   "metadata": {},
   "outputs": [
    {
     "data": {
      "text/plain": [
       "Sequential(\n",
       "  (0): Linear(in_features=42, out_features=64, bias=True)\n",
       "  (1): ReLU()\n",
       "  (2): Linear(in_features=64, out_features=128, bias=True)\n",
       "  (3): ReLU()\n",
       "  (4): Linear(in_features=128, out_features=64, bias=True)\n",
       "  (5): ReLU()\n",
       "  (6): Linear(in_features=64, out_features=32, bias=True)\n",
       "  (7): ReLU()\n",
       "  (8): Linear(in_features=32, out_features=11, bias=True)\n",
       "  (9): Sigmoid()\n",
       ")"
      ]
     },
     "execution_count": 3,
     "metadata": {},
     "output_type": "execute_result"
    }
   ],
   "source": [
    "mp_hands = mp.solutions.hands\n",
    "hands = mp_hands.Hands(static_image_mode=False, max_num_hands=1, min_detection_confidence=0.5)\n",
    "mp_drawing = mp.solutions.drawing_utils\n",
    "\n",
    "model.eval()"
   ]
  },
  {
   "cell_type": "code",
   "execution_count": 4,
   "metadata": {},
   "outputs": [
    {
     "name": "stderr",
     "output_type": "stream",
     "text": [
      "c:\\Users\\Purvansh Sonthalia\\AppData\\Local\\Programs\\Python\\Python39\\lib\\site-packages\\google\\protobuf\\symbol_database.py:55: UserWarning: SymbolDatabase.GetPrototype() is deprecated. Please use message_factory.GetMessageClass() instead. SymbolDatabase.GetPrototype() will be removed soon.\n",
      "  warnings.warn('SymbolDatabase.GetPrototype() is deprecated. Please '\n"
     ]
    }
   ],
   "source": [
    "# Open a connection to the camera\n",
    "cap = cv2.VideoCapture(0)\n",
    "\n",
    "while True:\n",
    "    # Capture frame-by-frame\n",
    "    ret, frame = cap.read()\n",
    "\n",
    "    if not ret:\n",
    "        break\n",
    "    \n",
    "    vec = []\n",
    "\n",
    "    copy_frame = frame.copy()\n",
    "    rgb_frame = cv2.cvtColor(frame, cv2.COLOR_BGR2RGB)\n",
    "    \n",
    "    # Process the frame and detect hands\n",
    "    result = hands.process(rgb_frame)\n",
    "    \n",
    "    # Draw hand landmarks and bounding box\n",
    "    if result.multi_hand_landmarks:\n",
    "        for hand_landmarks in result.multi_hand_landmarks:\n",
    "            mp_drawing.draw_landmarks(frame, hand_landmarks, mp_hands.HAND_CONNECTIONS)\n",
    "            \n",
    "            # Get bounding box coordinates\n",
    "            x_max, y_max, x_min, y_min = 0, 0, frame.shape[1], frame.shape[0]\n",
    "            for landmark in hand_landmarks.landmark:\n",
    "                vec += [landmark.x,landmark.y]\n",
    "                x = int(landmark.x * frame.shape[1])\n",
    "                y = int(landmark.y * frame.shape[0])\n",
    "                if x > x_max:\n",
    "                    x_max = x\n",
    "                if x < x_min:\n",
    "                    x_min = x\n",
    "                if y > y_max:\n",
    "                    y_max = y\n",
    "                if y < y_min:\n",
    "                    y_min = y\n",
    "            \n",
    "            # Extract hand image and resize to 128x128\n",
    "            x_span = x_max-x_min\n",
    "            y_span = y_max-y_min\n",
    "            x_mid = (x_max+x_min)//2\n",
    "            y_mid = (y_max+y_min)//2\n",
    "            span = int(0.6*max(x_span,y_span))\n",
    "\n",
    "            y_min = y_mid - span\n",
    "            y_max = y_mid + span\n",
    "            x_min = x_mid - span\n",
    "            x_max = x_mid + span\n",
    "\n",
    "            if x_max > frame.shape[1]:\n",
    "                x_max = frame.shape[1]\n",
    "            if x_min < 0:\n",
    "                x_min = 0\n",
    "            if y_max > frame.shape[0]:\n",
    "                y_max = frame.shape[0]\n",
    "            if y_min < 0:\n",
    "                y_min = 0\n",
    "\n",
    "            hand_image = frame[y_min:y_max, x_min:x_max]\n",
    "            cv2.rectangle(copy_frame, (x_min, y_min), (x_max, y_max), (0, 255, 0), 2)\n",
    "\n",
    "\n",
    "            \n",
    "\n",
    "            # Prepare the image for the model\n",
    "            img = torch.tensor([vec],dtype=torch.float32,device=device)\n",
    "\n",
    "            # Get the prediction\n",
    "            with torch.no_grad():\n",
    "                outputs = model(img)\n",
    "                _, preds = torch.max(outputs, 1)\n",
    "                prediction = config.class_names[preds[0].item()]\n",
    "    else:\n",
    "        prediction = '$'\n",
    "    \n",
    "    # Display the prediction\n",
    "    font = cv2.FONT_HERSHEY_SIMPLEX\n",
    "    cv2.putText(frame, f'Prediction: {prediction}', (10, 30), font, 1, (0, 255, 0), 2, cv2.LINE_AA)\n",
    "    cv2.imshow('Camera Feed with Prediction', frame)\n",
    "    \n",
    "    # Break the loop on 'q' key press\n",
    "    if cv2.waitKey(1) & 0xFF == ord('q'):\n",
    "        break\n",
    "\n",
    "# When everything is done, release the capture and close windows\n",
    "cap.release()\n",
    "cv2.destroyAllWindows()\n"
   ]
  }
 ],
 "metadata": {
  "kernelspec": {
   "display_name": "Python 3",
   "language": "python",
   "name": "python3"
  },
  "language_info": {
   "codemirror_mode": {
    "name": "ipython",
    "version": 3
   },
   "file_extension": ".py",
   "mimetype": "text/x-python",
   "name": "python",
   "nbconvert_exporter": "python",
   "pygments_lexer": "ipython3",
   "version": "3.9.12"
  },
  "orig_nbformat": 4
 },
 "nbformat": 4,
 "nbformat_minor": 2
}
